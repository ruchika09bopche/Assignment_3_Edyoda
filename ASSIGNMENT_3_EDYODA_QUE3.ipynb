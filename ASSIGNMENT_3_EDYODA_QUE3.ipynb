{
 "cells": [
  {
   "cell_type": "markdown",
   "id": "25fa7590",
   "metadata": {},
   "source": [
    "# Write a Python function that accepts a string and calculate the number of upper case letters and lower case letters.\n",
    "\n",
    "\n",
    "\n",
    "Sample String : 'The quick Brow Fox'\n",
    "\n",
    "Expected Output :\n",
    "\n",
    "No. of Upper case characters : 3\n",
    "\n",
    "No. of Lower case Characters : 12"
   ]
  },
  {
   "cell_type": "code",
   "execution_count": 7,
   "id": "d5861092",
   "metadata": {},
   "outputs": [
    {
     "name": "stdout",
     "output_type": "stream",
     "text": [
      "No. of Upper case characters :  3\n",
      "No. of Lower case Characters :  12\n"
     ]
    }
   ],
   "source": [
    "def strs(s):\n",
    "    c={\"a\":0, \"b\":0}\n",
    "    for i in s:\n",
    "        if i.isupper():\n",
    "           c[\"a\"]+=1\n",
    "        elif i.islower():\n",
    "           c[\"b\"]+=1\n",
    "                \n",
    "    print (\"No. of Upper case characters : \", c[\"a\"])\n",
    "    print (\"No. of Lower case Characters : \", c[\"b\"])\n",
    "\n",
    "strs('The quick Brow Fox')"
   ]
  }
 ],
 "metadata": {
  "kernelspec": {
   "display_name": "Python 3 (ipykernel)",
   "language": "python",
   "name": "python3"
  },
  "language_info": {
   "codemirror_mode": {
    "name": "ipython",
    "version": 3
   },
   "file_extension": ".py",
   "mimetype": "text/x-python",
   "name": "python",
   "nbconvert_exporter": "python",
   "pygments_lexer": "ipython3",
   "version": "3.10.2"
  }
 },
 "nbformat": 4,
 "nbformat_minor": 5
}
